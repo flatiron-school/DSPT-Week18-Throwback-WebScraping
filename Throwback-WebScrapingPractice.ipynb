{
 "cells": [
  {
   "cell_type": "markdown",
   "metadata": {},
   "source": [
    "# Throwback Challenge!\n",
    "\n",
    "That's right! Time to look back and practice some skills we haven't touched on since Phase 1!\n",
    "\n",
    "Today we'll focus on scraping websites.\n",
    "\n",
    "It can be hugely useful for you to have the skills to gather your own data, and sometimes the data you need isn't nicely packaged up and accessible through an API endpoint. So let's practice those skills!"
   ]
  },
  {
   "cell_type": "markdown",
   "metadata": {},
   "source": [
    "![image of quotation marks](images/quote.png)\n",
    "[Image Source](https://www.quickanddirtytips.com/education/grammar/how-to-use-quotation-marks)\n",
    "\n",
    "Your challenge? The URL http://quotes.toscrape.com/ has ten pages of quotes. Scrape that data, then answer the following questions:"
   ]
  },
  {
   "cell_type": "code",
   "execution_count": null,
   "metadata": {},
   "outputs": [],
   "source": [
    "# Imports here\n"
   ]
  },
  {
   "cell_type": "markdown",
   "metadata": {},
   "source": [
    "#### Some notes! \n",
    "\n",
    "Unlike when we first played around with webscraping in our study group, we won't be able to just grab a table nicely. Instead, think about _finding_ certain html tags that have certain _classes_ (which need to be searched for using `class_` instead of `class`).\n",
    "\n",
    "If you get an error saying you need \"html5lib\", then you're trying to treat this like a table. That won't work!\n",
    "\n",
    "In the end, I recommend getting out a dataframe from all 10 pages that captures the quote, the author and the tags associated with each quote. You should have 100 rows in that dataframe.\n",
    "\n",
    "Ping me if these helpful hints are more confusing than helpful!"
   ]
  },
  {
   "cell_type": "markdown",
   "metadata": {},
   "source": [
    "### Explore the Soup & Create Your DataFrame"
   ]
  },
  {
   "cell_type": "code",
   "execution_count": null,
   "metadata": {
    "scrolled": true
   },
   "outputs": [],
   "source": []
  },
  {
   "cell_type": "code",
   "execution_count": null,
   "metadata": {},
   "outputs": [],
   "source": []
  },
  {
   "cell_type": "code",
   "execution_count": null,
   "metadata": {},
   "outputs": [],
   "source": []
  },
  {
   "cell_type": "code",
   "execution_count": null,
   "metadata": {},
   "outputs": [],
   "source": []
  },
  {
   "cell_type": "code",
   "execution_count": null,
   "metadata": {},
   "outputs": [],
   "source": []
  },
  {
   "cell_type": "markdown",
   "metadata": {},
   "source": [
    "### Question 1: Who is quoted most often?"
   ]
  },
  {
   "cell_type": "code",
   "execution_count": null,
   "metadata": {},
   "outputs": [],
   "source": []
  },
  {
   "cell_type": "markdown",
   "metadata": {},
   "source": [
    "### Question 2: How many distinct tags are used?"
   ]
  },
  {
   "cell_type": "code",
   "execution_count": null,
   "metadata": {},
   "outputs": [],
   "source": []
  },
  {
   "cell_type": "markdown",
   "metadata": {},
   "source": [
    "### Question 3: What is the most used tag?"
   ]
  },
  {
   "cell_type": "code",
   "execution_count": null,
   "metadata": {},
   "outputs": [],
   "source": []
  },
  {
   "cell_type": "markdown",
   "metadata": {},
   "source": [
    "### Question 4: Which quotes use the most-used tag?"
   ]
  },
  {
   "cell_type": "code",
   "execution_count": null,
   "metadata": {},
   "outputs": [],
   "source": []
  }
 ],
 "metadata": {
  "kernelspec": {
   "display_name": "learn-env",
   "language": "python",
   "name": "learn-env"
  },
  "language_info": {
   "codemirror_mode": {
    "name": "ipython",
    "version": 3
   },
   "file_extension": ".py",
   "mimetype": "text/x-python",
   "name": "python",
   "nbconvert_exporter": "python",
   "pygments_lexer": "ipython3",
   "version": "3.8.5"
  }
 },
 "nbformat": 4,
 "nbformat_minor": 4
}
